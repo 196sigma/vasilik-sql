{
 "cells": [
  {
   "cell_type": "code",
   "execution_count": 1,
   "metadata": {},
   "outputs": [],
   "source": [
    "import pandas as pd\n",
    "import os"
   ]
  },
  {
   "cell_type": "code",
   "execution_count": 4,
   "metadata": {},
   "outputs": [
    {
     "name": "stdout",
     "output_type": "stream",
     "text": [
      "categories.csv\t\t     employees.csv     orders.csv    suppliers.csv\r\n",
      "customergroupthresholds.csv  northwind.zip     products.csv\r\n",
      "customers.csv\t\t     orderdetails.csv  shippers.csv\r\n"
     ]
    }
   ],
   "source": [
    "!ls data"
   ]
  },
  {
   "cell_type": "code",
   "execution_count": 28,
   "metadata": {},
   "outputs": [],
   "source": [
    "def showme(name):\n",
    "    x = pd.read_csv(\"data/\"+name+\".csv\",sep=\"|\")\n",
    "    print(x.shape)\n",
    "    print(x.dtypes)\n",
    "    x.to_csv(\"data/\"+name+\".csv\", index=False)\n",
    "    print(x.head())\n",
    "\n",
    "#showme(\"categories\")"
   ]
  },
  {
   "cell_type": "code",
   "execution_count": 44,
   "metadata": {},
   "outputs": [],
   "source": [
    "with open(\"data/orderdetails.csv\", \"r\") as infile:\n",
    "    data = infile.readlines()\n",
    "    \n",
    "data = [d.replace('\"', '') for d in data]\n",
    "with open(\"data/orderdetails.csv\", \"w\") as outfile:\n",
    "    outfile.writelines(data)"
   ]
  },
  {
   "cell_type": "code",
   "execution_count": 46,
   "metadata": {},
   "outputs": [
    {
     "name": "stdout",
     "output_type": "stream",
     "text": [
      "(2155, 5)\n",
      "OrderID        int64\n",
      "ProductID      int64\n",
      "UnitPrice    float64\n",
      "Quantity       int64\n",
      "Discount     float64\n",
      "dtype: object\n"
     ]
    },
    {
     "data": {
      "text/html": [
       "<div>\n",
       "<style scoped>\n",
       "    .dataframe tbody tr th:only-of-type {\n",
       "        vertical-align: middle;\n",
       "    }\n",
       "\n",
       "    .dataframe tbody tr th {\n",
       "        vertical-align: top;\n",
       "    }\n",
       "\n",
       "    .dataframe thead th {\n",
       "        text-align: right;\n",
       "    }\n",
       "</style>\n",
       "<table border=\"1\" class=\"dataframe\">\n",
       "  <thead>\n",
       "    <tr style=\"text-align: right;\">\n",
       "      <th></th>\n",
       "      <th>OrderID</th>\n",
       "      <th>ProductID</th>\n",
       "      <th>UnitPrice</th>\n",
       "      <th>Quantity</th>\n",
       "      <th>Discount</th>\n",
       "    </tr>\n",
       "  </thead>\n",
       "  <tbody>\n",
       "    <tr>\n",
       "      <th>0</th>\n",
       "      <td>10248</td>\n",
       "      <td>11</td>\n",
       "      <td>14.0</td>\n",
       "      <td>12</td>\n",
       "      <td>0.0</td>\n",
       "    </tr>\n",
       "    <tr>\n",
       "      <th>1</th>\n",
       "      <td>10248</td>\n",
       "      <td>42</td>\n",
       "      <td>9.8</td>\n",
       "      <td>10</td>\n",
       "      <td>0.0</td>\n",
       "    </tr>\n",
       "    <tr>\n",
       "      <th>2</th>\n",
       "      <td>10248</td>\n",
       "      <td>72</td>\n",
       "      <td>34.8</td>\n",
       "      <td>5</td>\n",
       "      <td>0.0</td>\n",
       "    </tr>\n",
       "    <tr>\n",
       "      <th>3</th>\n",
       "      <td>10249</td>\n",
       "      <td>14</td>\n",
       "      <td>18.6</td>\n",
       "      <td>9</td>\n",
       "      <td>0.0</td>\n",
       "    </tr>\n",
       "    <tr>\n",
       "      <th>4</th>\n",
       "      <td>10249</td>\n",
       "      <td>51</td>\n",
       "      <td>42.4</td>\n",
       "      <td>40</td>\n",
       "      <td>0.0</td>\n",
       "    </tr>\n",
       "  </tbody>\n",
       "</table>\n",
       "</div>"
      ],
      "text/plain": [
       "   OrderID  ProductID  UnitPrice  Quantity  Discount\n",
       "0    10248         11       14.0        12       0.0\n",
       "1    10248         42        9.8        10       0.0\n",
       "2    10248         72       34.8         5       0.0\n",
       "3    10249         14       18.6         9       0.0\n",
       "4    10249         51       42.4        40       0.0"
      ]
     },
     "execution_count": 46,
     "metadata": {},
     "output_type": "execute_result"
    }
   ],
   "source": [
    "x = pd.read_csv(\"data/orderdetails.csv\")\n",
    "print(x.shape)\n",
    "print(x.dtypes)\n",
    "x.to_csv(\"data/orderdetails.csv\", index=False)\n",
    "x.head()"
   ]
  },
  {
   "cell_type": "code",
   "execution_count": 30,
   "metadata": {},
   "outputs": [
    {
     "name": "stdout",
     "output_type": "stream",
     "text": [
      "(3, 3)\n",
      "ShipperID       int64\n",
      "CompanyName    object\n",
      "Phone          object\n",
      "dtype: object\n",
      "   ShipperID       CompanyName           Phone\n",
      "0          1    Speedy Express  (503) 555-9831\n",
      "1          2    United Package  (503) 555-3199\n",
      "2          3  Federal Shipping  (503) 555-9931\n"
     ]
    }
   ],
   "source": [
    "showme(\"shippers\")"
   ]
  },
  {
   "cell_type": "code",
   "execution_count": 31,
   "metadata": {},
   "outputs": [
    {
     "name": "stdout",
     "output_type": "stream",
     "text": [
      "(77, 10)\n",
      "ProductID            int64\n",
      "ProductName         object\n",
      "SupplierID           int64\n",
      "CategoryID           int64\n",
      "QuantityPerUnit     object\n",
      "UnitPrice          float64\n",
      "UnitsInStock         int64\n",
      "UnitsOnOrder         int64\n",
      "ReorderLevel         int64\n",
      "Discontinued         int64\n",
      "dtype: object\n",
      "   ProductID                   ProductName  SupplierID  CategoryID  \\\n",
      "0          1                          Chai           1           1   \n",
      "1          2                         Chang           1           1   \n",
      "2          3                 Aniseed Syrup           1           2   \n",
      "3          4  Chef Anton's Cajun Seasoning           2           2   \n",
      "4          5        Chef Anton's Gumbo Mix           2           2   \n",
      "\n",
      "       QuantityPerUnit  UnitPrice  UnitsInStock  UnitsOnOrder  ReorderLevel  \\\n",
      "0   10 boxes x 20 bags      18.00            39             0            10   \n",
      "1   24 - 12 oz bottles      19.00            17            40            25   \n",
      "2  12 - 550 ml bottles      10.00            13            70            25   \n",
      "3       48 - 6 oz jars      22.00            53             0             0   \n",
      "4             36 boxes      21.35             0             0             0   \n",
      "\n",
      "   Discontinued  \n",
      "0             0  \n",
      "1             0  \n",
      "2             0  \n",
      "3             0  \n",
      "4             1  \n"
     ]
    }
   ],
   "source": [
    "showme(\"products\")"
   ]
  },
  {
   "cell_type": "code",
   "execution_count": 32,
   "metadata": {},
   "outputs": [
    {
     "name": "stdout",
     "output_type": "stream",
     "text": [
      "(4, 3)\n",
      "CustomerGroupName     object\n",
      "RangeBottom          float64\n",
      "RangeTop             float64\n",
      "dtype: object\n",
      "  CustomerGroupName  RangeBottom      RangeTop\n",
      "0               Low          0.0  9.999999e+02\n",
      "1            Medium       1000.0  5.000000e+03\n",
      "2              High       5000.0  1.000000e+04\n",
      "3         Very High      10000.0  9.223372e+14\n"
     ]
    }
   ],
   "source": [
    "showme(\"customergroupthresholds\")"
   ]
  },
  {
   "cell_type": "code",
   "execution_count": 33,
   "metadata": {},
   "outputs": [
    {
     "name": "stdout",
     "output_type": "stream",
     "text": [
      "(91, 11)\n",
      "CustomerID      object\n",
      "CompanyName     object\n",
      "ContactName     object\n",
      "ContactTitle    object\n",
      "Address         object\n",
      "City            object\n",
      "Region          object\n",
      "PostalCode      object\n",
      "Country         object\n",
      "Phone           object\n",
      "Fax             object\n",
      "dtype: object\n",
      "  CustomerID                         CompanyName         ContactName  \\\n",
      "0      ALFKI                 Alfreds Futterkiste        Maria Anders   \n",
      "1      ANATR  Ana Trujillo Emparedados y helados        Ana Trujillo   \n",
      "2      ANTON             Antonio Moreno Taquería      Antonio Moreno   \n",
      "3      AROUT                     Around the Horn        Thomas Hardy   \n",
      "4      BERGS                  Berglunds snabbköp  Christina Berglund   \n",
      "\n",
      "           ContactTitle                        Address         City Region  \\\n",
      "0  Sales Representative                  Obere Str. 57       Berlin    NaN   \n",
      "1                 Owner  Avda. de la Constitución 2222  México D.F.    NaN   \n",
      "2                 Owner                Mataderos  2312  México D.F.    NaN   \n",
      "3  Sales Representative                120 Hanover Sq.       London    NaN   \n",
      "4   Order Administrator                Berguvsvägen  8        Luleå    NaN   \n",
      "\n",
      "  PostalCode  Country           Phone             Fax  \n",
      "0      12209  Germany     030-0074321     030-0076545  \n",
      "1      05021   Mexico    (5) 555-4729    (5) 555-3745  \n",
      "2      05023   Mexico    (5) 555-3932             NaN  \n",
      "3    WA1 1DP       UK  (171) 555-7788  (171) 555-6750  \n",
      "4   S-958 22   Sweden   0921-12 34 65   0921-12 34 67  \n"
     ]
    }
   ],
   "source": [
    "showme(\"customers\")"
   ]
  },
  {
   "cell_type": "code",
   "execution_count": 34,
   "metadata": {},
   "outputs": [
    {
     "name": "stdout",
     "output_type": "stream",
     "text": [
      "(29, 12)\n",
      "SupplierID       int64\n",
      "CompanyName     object\n",
      "ContactName     object\n",
      "ContactTitle    object\n",
      "Address         object\n",
      "City            object\n",
      "Region          object\n",
      "PostalCode      object\n",
      "Country         object\n",
      "Phone           object\n",
      "Fax             object\n",
      "HomePage        object\n",
      "dtype: object\n",
      "   SupplierID                         CompanyName                 ContactName  \\\n",
      "0           1                      Exotic Liquids            Charlotte Cooper   \n",
      "1           2          New Orleans Cajun Delights               Shelley Burke   \n",
      "2           3           Grandma Kelly's Homestead               Regina Murphy   \n",
      "3           4                       Tokyo Traders                Yoshi Nagase   \n",
      "4           5  Cooperativa de Quesos 'Las Cabras'  Antonio del Valle Saavedra   \n",
      "\n",
      "           ContactTitle                    Address         City    Region  \\\n",
      "0    Purchasing Manager             49 Gilbert St.       London       NaN   \n",
      "1   Order Administrator             P.O. Box 78934  New Orleans        LA   \n",
      "2  Sales Representative             707 Oxford Rd.    Ann Arbor        MI   \n",
      "3     Marketing Manager  9-8 Sekimai Musashino-shi        Tokyo       NaN   \n",
      "4  Export Administrator          Calle del Rosal 4       Oviedo  Asturias   \n",
      "\n",
      "  PostalCode Country           Phone             Fax     HomePage  \n",
      "0    EC1 4SD      UK  (171) 555-2222             NaN          NaN  \n",
      "1      70117     USA  (100) 555-4822             NaN  #CAJUN.HTM#  \n",
      "2      48104     USA  (313) 555-5735  (313) 555-3349          NaN  \n",
      "3        100   Japan  (03) 3555-5011             NaN          NaN  \n",
      "4      33007   Spain  (98) 598 76 54             NaN          NaN  \n"
     ]
    }
   ],
   "source": [
    "showme(\"suppliers\")"
   ]
  },
  {
   "cell_type": "code",
   "execution_count": 35,
   "metadata": {},
   "outputs": [
    {
     "name": "stdout",
     "output_type": "stream",
     "text": [
      "(830, 14)\n",
      "OrderID             int64\n",
      "CustomerID         object\n",
      "EmployeeID          int64\n",
      "OrderDate          object\n",
      "RequiredDate       object\n",
      "ShippedDate        object\n",
      "ShipVia             int64\n",
      "Freight           float64\n",
      "ShipName           object\n",
      "ShipAddress        object\n",
      "ShipCity           object\n",
      "ShipRegion         object\n",
      "ShipPostalCode     object\n",
      "ShipCountry        object\n",
      "dtype: object\n",
      "   OrderID CustomerID  EmployeeID                OrderDate  \\\n",
      "0    10248      VINET           5  2014-07-04 08:00:00.000   \n",
      "1    10249      TOMSP           6  2014-07-05 04:00:00.000   \n",
      "2    10250      HANAR           4  2014-07-08 15:00:00.000   \n",
      "3    10251      VICTE           3  2014-07-08 14:00:00.000   \n",
      "4    10252      SUPRD           4  2014-07-09 01:00:00.000   \n",
      "\n",
      "              RequiredDate              ShippedDate  ShipVia  Freight  \\\n",
      "0  2014-08-01 00:00:00.000  2014-07-16 00:00:00.000        3    32.38   \n",
      "1  2014-08-16 00:00:00.000  2014-07-10 00:00:00.000        1    11.61   \n",
      "2  2014-08-05 00:00:00.000  2014-07-12 00:00:00.000        2    65.83   \n",
      "3  2014-08-05 00:00:00.000  2014-07-15 00:00:00.000        1    41.34   \n",
      "4  2014-08-06 00:00:00.000  2014-07-11 00:00:00.000        2    51.30   \n",
      "\n",
      "                    ShipName           ShipAddress        ShipCity ShipRegion  \\\n",
      "0  Vins et alcools Chevalier    59 rue de l'Abbaye           Reims        NaN   \n",
      "1         Toms Spezialitäten         Luisenstr. 48         Münster        NaN   \n",
      "2              Hanari Carnes       Rua do Paço, 67  Rio de Janeiro         RJ   \n",
      "3       Victuailles en stock    2, rue du Commerce            Lyon        NaN   \n",
      "4           Suprêmes délices  Boulevard Tirou, 255       Charleroi        NaN   \n",
      "\n",
      "  ShipPostalCode ShipCountry  \n",
      "0          51100      France  \n",
      "1          44087     Germany  \n",
      "2      05454-876      Brazil  \n",
      "3          69004      France  \n",
      "4         B-6000     Belgium  \n"
     ]
    }
   ],
   "source": [
    "showme(\"orders\")"
   ]
  },
  {
   "cell_type": "code",
   "execution_count": 36,
   "metadata": {},
   "outputs": [
    {
     "name": "stdout",
     "output_type": "stream",
     "text": [
      "(12, 17)\n",
      "EmployeeID          object\n",
      "LastName            object\n",
      "FirstName           object\n",
      "Title               object\n",
      "TitleOfCourtesy     object\n",
      "BirthDate           object\n",
      "HireDate            object\n",
      "Address             object\n",
      "City                object\n",
      "Region              object\n",
      "PostalCode          object\n",
      "Country             object\n",
      "HomePhone           object\n",
      "Extension          float64\n",
      "Notes               object\n",
      "ReportsTo          float64\n",
      "PhotoPath           object\n",
      "dtype: object\n",
      "  EmployeeID   LastName FirstName                  Title TitleOfCourtesy  \\\n",
      "0          1    Davolio     Nancy   Sales Representative             Ms.   \n",
      "1    Apt. 2A    Seattle        WA                  98122             USA   \n",
      "2          2     Fuller    Andrew  Vice President, Sales             Dr.   \n",
      "3          3  Leverling     Janet   Sales Representative             Ms.   \n",
      "4          4    Peacock  Margaret   Sales Representative            Mrs.   \n",
      "\n",
      "                 BirthDate                 HireDate  \\\n",
      "0  1966-12-08 00:00:00.000  2010-05-01 00:00:00.000   \n",
      "1           (206) 555-9857                     5467   \n",
      "2  1970-02-19 00:00:00.000  2010-08-14 00:00:00.000   \n",
      "3  1981-08-30 00:00:00.000  2010-04-01 00:00:00.000   \n",
      "4  1955-09-19 00:00:00.000  2011-05-03 00:00:00.000   \n",
      "\n",
      "                                             Address      City  \\\n",
      "0                                 507 - 20th Ave. E.       NaN   \n",
      "1  Education includes a BA in psychology from Col...         2   \n",
      "2                                 908 W. Capital Way    Tacoma   \n",
      "3                                 722 Moss Bay Blvd.  Kirkland   \n",
      "4                               4110 Old Redmond Rd.   Redmond   \n",
      "\n",
      "                                 Region PostalCode Country       HomePhone  \\\n",
      "0                                   NaN        NaN     NaN             NaN   \n",
      "1  http://accweb/emmployees/davolio.bmp        NaN     NaN             NaN   \n",
      "2                                    WA      98401     USA  (206) 555-9482   \n",
      "3                                    WA      98033     USA  (206) 555-3412   \n",
      "4                                    WA      98052     USA  (206) 555-8122   \n",
      "\n",
      "   Extension                                              Notes  ReportsTo  \\\n",
      "0        NaN                                                NaN        NaN   \n",
      "1        NaN                                                NaN        NaN   \n",
      "2     3457.0  Andrew received his BTS commercial in 1974 and...        NaN   \n",
      "3     3355.0  Janet has a BS degree in chemistry from Boston...        2.0   \n",
      "4     5176.0  Margaret holds a BA in English literature from...        2.0   \n",
      "\n",
      "                                PhotoPath  \n",
      "0                                     NaN  \n",
      "1                                     NaN  \n",
      "2     http://accweb/emmployees/fuller.bmp  \n",
      "3  http://accweb/emmployees/leverling.bmp  \n",
      "4    http://accweb/emmployees/peacock.bmp  \n"
     ]
    }
   ],
   "source": [
    "showme(\"employees\")"
   ]
  },
  {
   "cell_type": "code",
   "execution_count": null,
   "metadata": {},
   "outputs": [],
   "source": []
  }
 ],
 "metadata": {
  "kernelspec": {
   "display_name": "Python 3",
   "language": "python",
   "name": "python3"
  },
  "language_info": {
   "codemirror_mode": {
    "name": "ipython",
    "version": 3
   },
   "file_extension": ".py",
   "mimetype": "text/x-python",
   "name": "python",
   "nbconvert_exporter": "python",
   "pygments_lexer": "ipython3",
   "version": "3.7.4"
  }
 },
 "nbformat": 4,
 "nbformat_minor": 2
}
